{
  "nbformat": 4,
  "nbformat_minor": 0,
  "metadata": {
    "colab": {
      "name": "Copy of Final Team Project Visualization",
      "provenance": [],
      "collapsed_sections": []
    },
    "kernelspec": {
      "name": "python3",
      "display_name": "Python 3"
    }
  },
  "cells": [
    {
      "cell_type": "markdown",
      "metadata": {
        "id": "Kw5PZBtl0Ob6",
        "colab_type": "text"
      },
      "source": [
        "### **COVID-19: A Close Look Througout the World, the US, and New York**\n",
        " \n"
      ]
    },
    {
      "cell_type": "markdown",
      "metadata": {
        "id": "iXWAmSVB0Rno",
        "colab_type": "text"
      },
      "source": [
        "Contributors:\n",
        "\n",
        "\n",
        "*   Matt Hughes\n",
        "*   Lily Tedesco\n",
        "*   Matt Ziv\n",
        "   \n",
        "\n",
        "\n",
        "\n"
      ]
    },
    {
      "cell_type": "markdown",
      "metadata": {
        "id": "WpaW-i5l0ZHn",
        "colab_type": "text"
      },
      "source": [
        "## Background"
      ]
    },
    {
      "cell_type": "markdown",
      "metadata": {
        "id": "E4VKsOvP0eev",
        "colab_type": "text"
      },
      "source": [
        "The idea of this project is to look at the coronavirus through three lenses: Globally (throughout countries), Nationally (throughout the United States), and Statewide (focusing in on New York). Globally we will be comparing the number of cases of COVID-19 by country. This graphic shows the rise in cases over time, and gives the option to filter countries by number of cases. Nationally, the second graphic examines the number of cases throughout each US state. This graph displays the states from highest to lowest, with New York being the top highest. The third graphic shows cases in New York relative to the age of those who have unfortunately fallen ill. Most medical professionals have said those who are very young or very old are most at risk to this virus, and knowing the numbers per age group can be useful to help understand what is happening. New York State has a high population density, especially in its biggest city of NYC. The age of those who have contracted this virus is important to us as it can show who is most vulnerable and who is safest. It also shows what age group has done the best keeping themselves safe and which has sadly been most exposed, or possibly referred to as carriers. As you can see by examining this graph, the group with the most amount of cases are those 75 and older; while those ages 0-17 have the least amount. We plan to show how the Coronavirus has impacted countries across the world, US States, and different age groups in New York."
      ]
    },
    {
      "cell_type": "markdown",
      "metadata": {
        "id": "7d8vfcGufV0_",
        "colab_type": "text"
      },
      "source": [
        "## Goal\n"
      ]
    },
    {
      "cell_type": "markdown",
      "metadata": {
        "id": "e1jKSGTjfY2H",
        "colab_type": "text"
      },
      "source": [
        "The goal of this project is to show how COVID-19 has grown throughout the world, the amount of cases per US state, and how different age groups are impacted in New York."
      ]
    },
    {
      "cell_type": "markdown",
      "metadata": {
        "id": "GOxy_TvCfi54",
        "colab_type": "text"
      },
      "source": [
        "### Assumptions"
      ]
    },
    {
      "cell_type": "markdown",
      "metadata": {
        "id": "cw1v_1MMfnAR",
        "colab_type": "text"
      },
      "source": [
        "1. Very old people will have a high death rate.\n",
        "2. Very young people will have a high death rate.\n",
        "3. Young adults will be more exposed due to their more active lifestyles.\n",
        "4. The more dense the population, the more cases there will be in those areas.\n",
        "5. Since these states have high populations relative to the U.S. there will be more cases.\n",
        "6. There will be exponential growth in total cases in the U.S. after February\n",
        "7. You will be able to tell what places did well in handling it if there was an early peak.\n",
        "8. Areas that got hit hard early will have the most cases due to how many unknowns there were when this virus began.\n",
        "9. Rural areas will have less cases.\n",
        "10. The more ages in the group will have more cases than those that have less. \n",
        "\n",
        "\n"
      ]
    },
    {
      "cell_type": "markdown",
      "metadata": {
        "id": "jKGILpu7gWr6",
        "colab_type": "text"
      },
      "source": [
        "### Data Sources"
      ]
    },
    {
      "cell_type": "markdown",
      "metadata": {
        "id": "uwCao7AtgbNn",
        "colab_type": "text"
      },
      "source": [
        "Since we were planning on comparing the ages of those who have been diagnosed with COVID-19, we selected data sources that gave us that information. Our New York dataset came from NYC.gov, a reliable source to give us that data. It had exactly the parameters we were looking for along with it being very clean. We chose our US nationwide dataset from the CDC as it also gave us clean data that fit what we wanted. The New York Times is also very reliable and accurate, and had a great dataset showing the rise in COVID-19 cases globally with over time (and with dates). By comparing these three datasets, we aim to show how the virus has progressed over time, which states have been hit the hardest, and which groups (at least in New York) have the most cases. The first graph is interactive and shows the rise in cases throughout countries over time; it is very clear to see a rapid expansion in a short amount of time. We also hoped to show how many cases are in each state, and vulnerable age groups reported in New York. We chose our data very mindfully in order to show the Cornavirus through these three lenses.\n",
        "\n",
        "\n"
      ]
    },
    {
      "cell_type": "markdown",
      "metadata": {
        "id": "kDgSdoQUgg2Z",
        "colab_type": "text"
      },
      "source": [
        "#### Data Sources"
      ]
    },
    {
      "cell_type": "markdown",
      "metadata": {
        "id": "dFzYIi0Agi2_",
        "colab_type": "text"
      },
      "source": [
        "https://www.cdc.gov/covid-data-tracker/index.html\n",
        "\n",
        "https://www1.nyc.gov/site/doh/covid/covid-19-data.page\n",
        "\n",
        "https://www.nytimes.com/article/coronavirus-county-data-us.html"
      ]
    },
    {
      "cell_type": "markdown",
      "metadata": {
        "id": "qcFak2v7g3jt",
        "colab_type": "text"
      },
      "source": [
        "## Dashboard"
      ]
    },
    {
      "cell_type": "code",
      "metadata": {
        "id": "b9XQdxkspzVd",
        "colab_type": "code",
        "outputId": "93f53145-3525-4068-caf4-3860710b51aa",
        "colab": {
          "base_uri": "https://localhost:8080/",
          "height": 1000
        }
      },
      "source": [
        "import IPython\n",
        "IPython.display.HTML(\"<div class='tableauPlaceholder' id='viz1588040287674' style='position: relative'><noscript><a href='#'><img alt=' ' src='https:&#47;&#47;public.tableau.com&#47;static&#47;images&#47;PR&#47;PRBY524B3&#47;1_rss.png' style='border: none' /></a></noscript><object class='tableauViz'  style='display:none;'><param name='host_url' value='https%3A%2F%2Fpublic.tableau.com%2F' /> <param name='embed_code_version' value='3' /> <param name='path' value='shared&#47;PRBY524B3' /> <param name='toolbar' value='yes' /><param name='static_image' value='https:&#47;&#47;public.tableau.com&#47;static&#47;images&#47;PR&#47;PRBY524B3&#47;1.png' /> <param name='animate_transition' value='yes' /><param name='display_static_image' value='yes' /><param name='display_spinner' value='yes' /><param name='display_overlay' value='yes' /><param name='display_count' value='yes' /></object></div>                <script type='text/javascript'>                    var divElement = document.getElementById('viz1588040287674');                    var vizElement = divElement.getElementsByTagName('object')[0];                    vizElement.style.width='100%';vizElement.style.height=(divElement.offsetWidth*0.75)+'px';                    var scriptElement = document.createElement('script');                    scriptElement.src = 'https://public.tableau.com/javascripts/api/viz_v1.js';                    vizElement.parentNode.insertBefore(scriptElement, vizElement);                </script>\")"
      ],
      "execution_count": 0,
      "outputs": [
        {
          "output_type": "execute_result",
          "data": {
            "text/html": [
              "<div class='tableauPlaceholder' id='viz1588040287674' style='position: relative'><noscript><a href='#'><img alt=' ' src='https:&#47;&#47;public.tableau.com&#47;static&#47;images&#47;PR&#47;PRBY524B3&#47;1_rss.png' style='border: none' /></a></noscript><object class='tableauViz'  style='display:none;'><param name='host_url' value='https%3A%2F%2Fpublic.tableau.com%2F' /> <param name='embed_code_version' value='3' /> <param name='path' value='shared&#47;PRBY524B3' /> <param name='toolbar' value='yes' /><param name='static_image' value='https:&#47;&#47;public.tableau.com&#47;static&#47;images&#47;PR&#47;PRBY524B3&#47;1.png' /> <param name='animate_transition' value='yes' /><param name='display_static_image' value='yes' /><param name='display_spinner' value='yes' /><param name='display_overlay' value='yes' /><param name='display_count' value='yes' /></object></div>                <script type='text/javascript'>                    var divElement = document.getElementById('viz1588040287674');                    var vizElement = divElement.getElementsByTagName('object')[0];                    vizElement.style.width='100%';vizElement.style.height=(divElement.offsetWidth*0.75)+'px';                    var scriptElement = document.createElement('script');                    scriptElement.src = 'https://public.tableau.com/javascripts/api/viz_v1.js';                    vizElement.parentNode.insertBefore(scriptElement, vizElement);                </script>"
            ],
            "text/plain": [
              "<IPython.core.display.HTML object>"
            ]
          },
          "metadata": {
            "tags": []
          },
          "execution_count": 10
        }
      ]
    },
    {
      "cell_type": "code",
      "metadata": {
        "id": "TluchI6Kp0rz",
        "colab_type": "code",
        "outputId": "2713a624-729c-41e1-e497-7bcf24128d07",
        "colab": {
          "base_uri": "https://localhost:8080/",
          "height": 1000
        }
      },
      "source": [
        "import IPython\n",
        "IPython.display.HTML(\"<div class='tableauPlaceholder' id='viz1588040410948' style='position: relative'><noscript><a href='#'><img alt=' ' src='https:&#47;&#47;public.tableau.com&#47;static&#47;images&#47;Fi&#47;FinalGroupProject-CoronavirusThroughoutUSStates&#47;Sheet2&#47;1_rss.png' style='border: none' /></a></noscript><object class='tableauViz'  style='display:none;'><param name='host_url' value='https%3A%2F%2Fpublic.tableau.com%2F' /> <param name='embed_code_version' value='3' /> <param name='site_root' value='' /><param name='name' value='FinalGroupProject-CoronavirusThroughoutUSStates&#47;Sheet2' /><param name='tabs' value='no' /><param name='toolbar' value='yes' /><param name='static_image' value='https:&#47;&#47;public.tableau.com&#47;static&#47;images&#47;Fi&#47;FinalGroupProject-CoronavirusThroughoutUSStates&#47;Sheet2&#47;1.png' /> <param name='animate_transition' value='yes' /><param name='display_static_image' value='yes' /><param name='display_spinner' value='yes' /><param name='display_overlay' value='yes' /><param name='display_count' value='yes' /></object></div>                <script type='text/javascript'>                    var divElement = document.getElementById('viz1588040410948');                    var vizElement = divElement.getElementsByTagName('object')[0];                    vizElement.style.width='100%';vizElement.style.height=(divElement.offsetWidth*0.75)+'px';                    var scriptElement = document.createElement('script');                    scriptElement.src = 'https://public.tableau.com/javascripts/api/viz_v1.js';                    vizElement.parentNode.insertBefore(scriptElement, vizElement);                </script>\")"
      ],
      "execution_count": 1,
      "outputs": [
        {
          "output_type": "execute_result",
          "data": {
            "text/html": [
              "<div class='tableauPlaceholder' id='viz1588040410948' style='position: relative'><noscript><a href='#'><img alt=' ' src='https:&#47;&#47;public.tableau.com&#47;static&#47;images&#47;Fi&#47;FinalGroupProject-CoronavirusThroughoutUSStates&#47;Sheet2&#47;1_rss.png' style='border: none' /></a></noscript><object class='tableauViz'  style='display:none;'><param name='host_url' value='https%3A%2F%2Fpublic.tableau.com%2F' /> <param name='embed_code_version' value='3' /> <param name='site_root' value='' /><param name='name' value='FinalGroupProject-CoronavirusThroughoutUSStates&#47;Sheet2' /><param name='tabs' value='no' /><param name='toolbar' value='yes' /><param name='static_image' value='https:&#47;&#47;public.tableau.com&#47;static&#47;images&#47;Fi&#47;FinalGroupProject-CoronavirusThroughoutUSStates&#47;Sheet2&#47;1.png' /> <param name='animate_transition' value='yes' /><param name='display_static_image' value='yes' /><param name='display_spinner' value='yes' /><param name='display_overlay' value='yes' /><param name='display_count' value='yes' /></object></div>                <script type='text/javascript'>                    var divElement = document.getElementById('viz1588040410948');                    var vizElement = divElement.getElementsByTagName('object')[0];                    vizElement.style.width='100%';vizElement.style.height=(divElement.offsetWidth*0.75)+'px';                    var scriptElement = document.createElement('script');                    scriptElement.src = 'https://public.tableau.com/javascripts/api/viz_v1.js';                    vizElement.parentNode.insertBefore(scriptElement, vizElement);                </script>"
            ],
            "text/plain": [
              "<IPython.core.display.HTML object>"
            ]
          },
          "metadata": {
            "tags": []
          },
          "execution_count": 1
        }
      ]
    },
    {
      "cell_type": "code",
      "metadata": {
        "id": "XilZkfCDp5yb",
        "colab_type": "code",
        "outputId": "f977672f-c3b6-40d5-9dfa-f7ec37b0f9c4",
        "colab": {
          "base_uri": "https://localhost:8080/",
          "height": 1000
        }
      },
      "source": [
        "import IPython\n",
        "IPython.display.HTML(\"<div class='tableauPlaceholder' id='viz1588040424704' style='position: relative'><noscript><a href='#'><img alt=' ' src='https:&#47;&#47;public.tableau.com&#47;static&#47;images&#47;Fi&#47;FinalGroupProject-CoronavirusinNewYork&#47;Sheet2&#47;1_rss.png' style='border: none' /></a></noscript><object class='tableauViz'  style='display:none;'><param name='host_url' value='https%3A%2F%2Fpublic.tableau.com%2F' /> <param name='embed_code_version' value='3' /> <param name='site_root' value='' /><param name='name' value='FinalGroupProject-CoronavirusinNewYork&#47;Sheet2' /><param name='tabs' value='no' /><param name='toolbar' value='yes' /><param name='static_image' value='https:&#47;&#47;public.tableau.com&#47;static&#47;images&#47;Fi&#47;FinalGroupProject-CoronavirusinNewYork&#47;Sheet2&#47;1.png' /> <param name='animate_transition' value='yes' /><param name='display_static_image' value='yes' /><param name='display_spinner' value='yes' /><param name='display_overlay' value='yes' /><param name='display_count' value='yes' /></object></div>                <script type='text/javascript'>                    var divElement = document.getElementById('viz1588040424704');                    var vizElement = divElement.getElementsByTagName('object')[0];                    vizElement.style.width='100%';vizElement.style.height=(divElement.offsetWidth*0.75)+'px';                    var scriptElement = document.createElement('script');                    scriptElement.src = 'https://public.tableau.com/javascripts/api/viz_v1.js';                    vizElement.parentNode.insertBefore(scriptElement, vizElement);                </script>\")"
      ],
      "execution_count": 0,
      "outputs": [
        {
          "output_type": "execute_result",
          "data": {
            "text/html": [
              "<div class='tableauPlaceholder' id='viz1588040424704' style='position: relative'><noscript><a href='#'><img alt=' ' src='https:&#47;&#47;public.tableau.com&#47;static&#47;images&#47;Fi&#47;FinalGroupProject-CoronavirusinNewYork&#47;Sheet2&#47;1_rss.png' style='border: none' /></a></noscript><object class='tableauViz'  style='display:none;'><param name='host_url' value='https%3A%2F%2Fpublic.tableau.com%2F' /> <param name='embed_code_version' value='3' /> <param name='site_root' value='' /><param name='name' value='FinalGroupProject-CoronavirusinNewYork&#47;Sheet2' /><param name='tabs' value='no' /><param name='toolbar' value='yes' /><param name='static_image' value='https:&#47;&#47;public.tableau.com&#47;static&#47;images&#47;Fi&#47;FinalGroupProject-CoronavirusinNewYork&#47;Sheet2&#47;1.png' /> <param name='animate_transition' value='yes' /><param name='display_static_image' value='yes' /><param name='display_spinner' value='yes' /><param name='display_overlay' value='yes' /><param name='display_count' value='yes' /></object></div>                <script type='text/javascript'>                    var divElement = document.getElementById('viz1588040424704');                    var vizElement = divElement.getElementsByTagName('object')[0];                    vizElement.style.width='100%';vizElement.style.height=(divElement.offsetWidth*0.75)+'px';                    var scriptElement = document.createElement('script');                    scriptElement.src = 'https://public.tableau.com/javascripts/api/viz_v1.js';                    vizElement.parentNode.insertBefore(scriptElement, vizElement);                </script>"
            ],
            "text/plain": [
              "<IPython.core.display.HTML object>"
            ]
          },
          "metadata": {
            "tags": []
          },
          "execution_count": 12
        }
      ]
    },
    {
      "cell_type": "markdown",
      "metadata": {
        "id": "SvWfnlDjnos1",
        "colab_type": "text"
      },
      "source": [
        "## Conclusion"
      ]
    },
    {
      "cell_type": "markdown",
      "metadata": {
        "id": "rfWefr2gnxOG",
        "colab_type": "text"
      },
      "source": [
        "We were able to successfully collect data on each area we were looking to study about COVID-19. Our goal was to look at the spread of the virus on different levels; globally, nationally, and by age, in New York specifically. We were able to find three separate sources, each one providing data necessary for us to compare the components within each of those levels. With the data we obtained from The New York Times, we were able to create an animation that accurately and effectively showed how cases have spread throughout the world. Our animation allows us to see how the virus has spread over the entire world during a short time and also see which countries have significantly more cases and the rate in which those countries are rising. It also gives us the opportunity to filter and only view those countries with a large number of cases; and, when looking at all of these factors, clear conclusions can be drawn. Major conclusions we drew from that graph would be that there is a rise in cases globally, and some countries are growing at greater rates, and three countries that have a great impact, or much larger amounts of cases, are China, Italy, and the United States. The second level we decided to look at is nationally. We wanted to see which states were being impacted the greatest. Our graph very successfully allows the viewer to observe the difference between the cases per state. It is very easy to conclude that New York has been significantly more affected by COVID-19 than any other state. The number of cases in New York are just under two times that of the state with the second most cases, New Jersey. Our graphic allows us to very easily see that difference. It also helps us conclude and support our original thought that the places with a higher density of people will have more cases. Those states that have large cities with a high population density fall fairly high on our graph; for example New York City in New York, Chicago in Illinois, Los Angeles in California,etc. contribute to all of those states being on the greater part of the number of cases. Due to our graph being organized from most cases to least, it is easier to observe and conclude the common attributes between states with a similar number of cases. Our third graphic was used to compare the number of cases between age groups in New York. We thought that this information is very important in aiding in our understanding of this virus, how it spreads, and who is most vulnerable. We created a graph that displays the difference between the age groups and allows us to draw conclusions from that. Based on the data shown through our graph, the age group that is least affected, or has the least amount of cases, in New York is those 0-17 years old. We are able to see that this is also a drastic difference compared to the number of cases and differences between the other age groups. We can conclude that the age group that has unfortunately contracted the most cases of COVID-19 is those over 75 years old. This allows us to see, potentially, who has been practicing more effective social distancing, assuming social distancing decreases the rate in which the virus spreads. Based on our graph, we could conclude that those over 75 have been more exposed and are more vulnerable to contracting it. We can conclude that those under 17 have been and are safer than those older. This makes sense considering that most of the people who are still required to do essential tasks or required to be around other people would be those over 17. A reasonable explanation to the conclusion that those over 75 have the greatest number of cases is because of the dependency of being around other people; whether that be in retirement homes, hospitals, or families that is the case for many. This graph showed us the difference and gave us an opportunity to better understand that and think of possible explanations as to why and what this data means for how people will react to it. We were effective in creating three graphs that allowed us to make conclusions on the goals we had for our data sets. We were able to see a difference between countries, between states, and between age groups within a specific state. This project has given us an opportunity to gain a better understanding of this virus and how it is spreading on different levels."
      ]
    }
  ]
}